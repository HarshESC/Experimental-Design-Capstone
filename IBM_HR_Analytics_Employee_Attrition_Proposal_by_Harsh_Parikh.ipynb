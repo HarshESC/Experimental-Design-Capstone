{
  "nbformat": 4,
  "nbformat_minor": 0,
  "metadata": {
    "colab": {
      "name": "IBM HR Analytics Employee Attrition Proposal by Harsh Parikh.ipynb",
      "provenance": [],
      "collapsed_sections": [
        "ZaA3hxv5kmz2",
        "LncihukHsAmk",
        "F8Lr3RJMeQYm",
        "_w3zJ6LOnkul",
        "RfJP39OkFw79"
      ],
      "authorship_tag": "ABX9TyOZvnh+3e9D+9nCby8CeCXB",
      "include_colab_link": true
    },
    "kernelspec": {
      "name": "python3",
      "display_name": "Python 3"
    },
    "language_info": {
      "name": "python"
    }
  },
  "cells": [
    {
      "cell_type": "markdown",
      "metadata": {
        "id": "view-in-github",
        "colab_type": "text"
      },
      "source": [
        "<a href=\"https://colab.research.google.com/github/HarshESC/Experimental-Design-Capstone/blob/main/IBM_HR_Analytics_Employee_Attrition_Proposal_by_Harsh_Parikh.ipynb\" target=\"_parent\"><img src=\"https://colab.research.google.com/assets/colab-badge.svg\" alt=\"Open In Colab\"/></a>"
      ]
    },
    {
      "cell_type": "markdown",
      "metadata": {
        "id": "ZaA3hxv5kmz2"
      },
      "source": [
        "IBM Employee Attrition Dataset Link:  \n",
        "https://www.kaggle.com/pavansubhasht/ibm-hr-analytics-attrition-dataset\n",
        "\n",
        "## 1. Introduction.\n",
        "\n",
        "IBM is an American, multinational technology company headquartered in Armonk, New York, operates globally in over 170 different countries, with its original and largest presence in the US. \n",
        "\n",
        "This dataset describes the employee attritions rates, which is the number of workers who leave the organization at IBM using a variety of different factors.  The dataset is quite interesting in how it describes employees job satisfaction in level with various factors, including promotion, salaries, and other similar factors.  \n",
        "\n",
        "Today, I would focus on how an employee's daily rate can impact job satisfaction at IBM.  The job satisfaction ranges from 1 to 4, with 1 being low jobsatisfaction while 4 is high job satisfaction.  I would like analyze how employees having higher daily rates can lead to a greater frequency of job satisfaction at IBM.\n",
        "\n",
        "## Audience.\n",
        "\n",
        "I believe this information would be useful to HR.\n",
        "Leveraging this data with HR data analytics can help inform and improve almost every area of HR, including recruitment, training, development, performance, and compensation. By using this data, HR managers can make smarter decisions and help an organization meet its goals more efficiently.\n",
        "\n"
      ]
    },
    {
      "cell_type": "markdown",
      "metadata": {
        "id": "LncihukHsAmk"
      },
      "source": [
        "## 2. Hypothesis.\n",
        "\n",
        "Ho: There is no significance between an employee's daily rate and job satisfaction.\n",
        "\n",
        "Ha:  There is significance between an employee's daily rate at IBM and the job satisfaction they have.  In this case, an employee's daily rates is postively correlated with job satisfaction.  \n"
      ]
    },
    {
      "cell_type": "markdown",
      "metadata": {
        "id": "F8Lr3RJMeQYm"
      },
      "source": [
        "## 3. Data \n",
        "\n",
        "The data comes from [Kaggle](https://www.kaggle.com/pavansubhasht/ibm-hr-analytics-attrition-dataset) \n",
        "\n",
        "and contains 1,470 observations and 35 variables. There are no missing values.\n",
        "\n",
        "Out of these observations, a job satisfaction rating of the follow yields these results.  Right is the number of entries, while the left side is the Job Satisfaction rating.  \n",
        "\n",
        "JobSatisfaction       Count of Daily Rate Entries     \n",
        "1                     289\n",
        "2                     280\n",
        "3                     442\n",
        "4                     459\n",
        "\n",
        "This experiment will explore the satisfaction levels of employees based on their appropriate matching Daily Rates.\n",
        "\n",
        "The Job Satisfaction variable ranges from 1 to 4, with 1 being low satisfaction, 2 being medium, 3 being high satisfaction, and 4 being very high.  \n"
      ]
    },
    {
      "cell_type": "markdown",
      "metadata": {
        "id": "_w3zJ6LOnkul"
      },
      "source": [
        "## 4. Methods\n",
        "\n",
        "For this analysis I will create four DataFrames, one for each Job Satisfaction category ranging from 1-4.  I feel the best approach is to analyze these four  separately because this will allow for a more interepretable and more stable result with a larger sample size and large grups.  \n",
        "\n",
        "If the distributions of job satisfaction appear to be close to normally distributed based on their histogram, skewness and kurtosis, I wil conduct an independent samples t-test between the groups at the two-tail, 95% confidence interval. \n",
        "\n",
        "Due to there being more than two variables we are analyzing, we will be performing a "
      ]
    },
    {
      "cell_type": "markdown",
      "metadata": {
        "id": "RfJP39OkFw79"
      },
      "source": [
        "## 5. Results\n",
        "\n",
        "Based on a visual inspection, Job Satisfaction Levels are close enough to normally distributed that I proceeded with the t-test. Based on a p-values > 0.05,  I reject the null that there is no significant difference in means. \n",
        "\n",
        "It seems that more employees with higher Daily Rates account for higher job satisfaction, if you look at the Satisfaction 2 Chart to the Satisfaction 3 Chart.\n",
        "\n",
        "The 95% confidence interval suggests that there difference in the Daily Rates between the employees with high job satisfaction and employees with lower job satisfaction.  The biggest change being from Job Satisfaction 2 to 3, where the median amount of daily rate increased by 100.  At around 800 Daily Rate, is where more people seem to have a higher satisfaction rating.  "
      ]
    },
    {
      "cell_type": "markdown",
      "metadata": {
        "id": "IMyCxGweG2Q3"
      },
      "source": [
        "## 6. Discussion and recommendation\n",
        "\n",
        "Daily Rates are on average higher for employees with Job Satisfactions of 3 or 4 and vice versa.  \n",
        "\n",
        "This does indicate that lower Daily Rates lead to low job satisfaction, and higher Attrition Rates.  There are quite a number of other factors that could influence the Attrition rates, including job environment, job roles, gender and performance ratings.  \n",
        "\n",
        "As a next step in the process, let's examine whether certain job roles can influence the amount of satisfaction.  We can allocate those to the amount of pay they receive, and once again analyze how the job role has an influence on the satisfaction levels.  We can analyze possibly through pie charts and histograms.\n",
        "\n",
        "Another consideration could be considering a gender variation (M/F) to see how these can affect satisfaction. \n",
        "\n",
        "All of this would be followed up with another A/B Testing of the results, and separating the job roles so we have a clear intepretation of what areas at IBM have these ratings.  \n",
        "\n",
        "While the current data definetely indicates how much pay affects attrition, I think the followup of Job roles can help us clearly distinguish what areas need improvement.  This makes for a non-risky, clear, inexpensive way to follow up the finding of the research.  \n"
      ]
    },
    {
      "cell_type": "code",
      "metadata": {
        "colab": {
          "base_uri": "https://localhost:8080/"
        },
        "id": "ReyTeqHfUQWO",
        "outputId": "49cc6147-a363-4a83-a355-b268a893268f"
      },
      "source": [
        "from google.colab import drive \n",
        "drive.mount('/content/gdrive')\n",
        "\n"
      ],
      "execution_count": null,
      "outputs": [
        {
          "output_type": "stream",
          "name": "stdout",
          "text": [
            "Mounted at /content/gdrive\n"
          ]
        }
      ]
    },
    {
      "cell_type": "code",
      "metadata": {
        "id": "spOCD6zHWhJP"
      },
      "source": [
        "import os \n"
      ],
      "execution_count": null,
      "outputs": []
    },
    {
      "cell_type": "code",
      "metadata": {
        "id": "tVZDUqQ2X7um"
      },
      "source": [
        "os.environ['KAGGLE_CONFIG_DIR'] = \"/content/gdrive/My Drive/Capstone 1\""
      ],
      "execution_count": null,
      "outputs": []
    },
    {
      "cell_type": "code",
      "metadata": {
        "colab": {
          "base_uri": "https://localhost:8080/"
        },
        "id": "QXr2hAOqXEI2",
        "outputId": "7bb474d9-bfd5-4674-cf23-5013c54bb9bb"
      },
      "source": [
        "#changing the working directory \n",
        "%cd /content/gdrive/My Drive/stuff\n",
        "\n"
      ],
      "execution_count": null,
      "outputs": [
        {
          "output_type": "stream",
          "name": "stdout",
          "text": [
            "[Errno 2] No such file or directory: '/content/gdrive/My Drive/stuff'\n",
            "/content\n"
          ]
        }
      ]
    },
    {
      "cell_type": "code",
      "metadata": {
        "colab": {
          "base_uri": "https://localhost:8080/"
        },
        "id": "-qv274SEfbHp",
        "outputId": "d7c2e9af-af6b-488b-cb83-bd2fbfd0dc80"
      },
      "source": [
        "!ls "
      ],
      "execution_count": null,
      "outputs": [
        {
          "output_type": "stream",
          "name": "stdout",
          "text": [
            "gdrive\tsample_data\n"
          ]
        }
      ]
    },
    {
      "cell_type": "code",
      "metadata": {
        "colab": {
          "base_uri": "https://localhost:8080/",
          "height": 432
        },
        "id": "1nbbiESWgQCG",
        "outputId": "caf5a8c5-0409-4c28-ca95-1c3c14e01bad"
      },
      "source": [
        "import pandas as pd\n",
        "attritionDF = pd.read_csv('WA_Fn-UseC_-HR-Employee-Attrition.csv')\n",
        "attritionDF.head()\n",
        "\n"
      ],
      "execution_count": null,
      "outputs": [
        {
          "output_type": "error",
          "ename": "FileNotFoundError",
          "evalue": "ignored",
          "traceback": [
            "\u001b[0;31m---------------------------------------------------------------------------\u001b[0m",
            "\u001b[0;31mFileNotFoundError\u001b[0m                         Traceback (most recent call last)",
            "\u001b[0;32m<ipython-input-6-13101f37db91>\u001b[0m in \u001b[0;36m<module>\u001b[0;34m()\u001b[0m\n\u001b[1;32m      1\u001b[0m \u001b[0;32mimport\u001b[0m \u001b[0mpandas\u001b[0m \u001b[0;32mas\u001b[0m \u001b[0mpd\u001b[0m\u001b[0;34m\u001b[0m\u001b[0;34m\u001b[0m\u001b[0m\n\u001b[0;32m----> 2\u001b[0;31m \u001b[0mattritionDF\u001b[0m \u001b[0;34m=\u001b[0m \u001b[0mpd\u001b[0m\u001b[0;34m.\u001b[0m\u001b[0mread_csv\u001b[0m\u001b[0;34m(\u001b[0m\u001b[0;34m'WA_Fn-UseC_-HR-Employee-Attrition.csv'\u001b[0m\u001b[0;34m)\u001b[0m\u001b[0;34m\u001b[0m\u001b[0;34m\u001b[0m\u001b[0m\n\u001b[0m\u001b[1;32m      3\u001b[0m \u001b[0mattritionDF\u001b[0m\u001b[0;34m.\u001b[0m\u001b[0mhead\u001b[0m\u001b[0;34m(\u001b[0m\u001b[0;34m)\u001b[0m\u001b[0;34m\u001b[0m\u001b[0;34m\u001b[0m\u001b[0m\n\u001b[1;32m      4\u001b[0m \u001b[0;34m\u001b[0m\u001b[0m\n",
            "\u001b[0;32m/usr/local/lib/python3.7/dist-packages/pandas/io/parsers.py\u001b[0m in \u001b[0;36mread_csv\u001b[0;34m(filepath_or_buffer, sep, delimiter, header, names, index_col, usecols, squeeze, prefix, mangle_dupe_cols, dtype, engine, converters, true_values, false_values, skipinitialspace, skiprows, skipfooter, nrows, na_values, keep_default_na, na_filter, verbose, skip_blank_lines, parse_dates, infer_datetime_format, keep_date_col, date_parser, dayfirst, cache_dates, iterator, chunksize, compression, thousands, decimal, lineterminator, quotechar, quoting, doublequote, escapechar, comment, encoding, dialect, error_bad_lines, warn_bad_lines, delim_whitespace, low_memory, memory_map, float_precision)\u001b[0m\n\u001b[1;32m    686\u001b[0m     )\n\u001b[1;32m    687\u001b[0m \u001b[0;34m\u001b[0m\u001b[0m\n\u001b[0;32m--> 688\u001b[0;31m     \u001b[0;32mreturn\u001b[0m \u001b[0m_read\u001b[0m\u001b[0;34m(\u001b[0m\u001b[0mfilepath_or_buffer\u001b[0m\u001b[0;34m,\u001b[0m \u001b[0mkwds\u001b[0m\u001b[0;34m)\u001b[0m\u001b[0;34m\u001b[0m\u001b[0;34m\u001b[0m\u001b[0m\n\u001b[0m\u001b[1;32m    689\u001b[0m \u001b[0;34m\u001b[0m\u001b[0m\n\u001b[1;32m    690\u001b[0m \u001b[0;34m\u001b[0m\u001b[0m\n",
            "\u001b[0;32m/usr/local/lib/python3.7/dist-packages/pandas/io/parsers.py\u001b[0m in \u001b[0;36m_read\u001b[0;34m(filepath_or_buffer, kwds)\u001b[0m\n\u001b[1;32m    452\u001b[0m \u001b[0;34m\u001b[0m\u001b[0m\n\u001b[1;32m    453\u001b[0m     \u001b[0;31m# Create the parser.\u001b[0m\u001b[0;34m\u001b[0m\u001b[0;34m\u001b[0m\u001b[0;34m\u001b[0m\u001b[0m\n\u001b[0;32m--> 454\u001b[0;31m     \u001b[0mparser\u001b[0m \u001b[0;34m=\u001b[0m \u001b[0mTextFileReader\u001b[0m\u001b[0;34m(\u001b[0m\u001b[0mfp_or_buf\u001b[0m\u001b[0;34m,\u001b[0m \u001b[0;34m**\u001b[0m\u001b[0mkwds\u001b[0m\u001b[0;34m)\u001b[0m\u001b[0;34m\u001b[0m\u001b[0;34m\u001b[0m\u001b[0m\n\u001b[0m\u001b[1;32m    455\u001b[0m \u001b[0;34m\u001b[0m\u001b[0m\n\u001b[1;32m    456\u001b[0m     \u001b[0;32mif\u001b[0m \u001b[0mchunksize\u001b[0m \u001b[0;32mor\u001b[0m \u001b[0miterator\u001b[0m\u001b[0;34m:\u001b[0m\u001b[0;34m\u001b[0m\u001b[0;34m\u001b[0m\u001b[0m\n",
            "\u001b[0;32m/usr/local/lib/python3.7/dist-packages/pandas/io/parsers.py\u001b[0m in \u001b[0;36m__init__\u001b[0;34m(self, f, engine, **kwds)\u001b[0m\n\u001b[1;32m    946\u001b[0m             \u001b[0mself\u001b[0m\u001b[0;34m.\u001b[0m\u001b[0moptions\u001b[0m\u001b[0;34m[\u001b[0m\u001b[0;34m\"has_index_names\"\u001b[0m\u001b[0;34m]\u001b[0m \u001b[0;34m=\u001b[0m \u001b[0mkwds\u001b[0m\u001b[0;34m[\u001b[0m\u001b[0;34m\"has_index_names\"\u001b[0m\u001b[0;34m]\u001b[0m\u001b[0;34m\u001b[0m\u001b[0;34m\u001b[0m\u001b[0m\n\u001b[1;32m    947\u001b[0m \u001b[0;34m\u001b[0m\u001b[0m\n\u001b[0;32m--> 948\u001b[0;31m         \u001b[0mself\u001b[0m\u001b[0;34m.\u001b[0m\u001b[0m_make_engine\u001b[0m\u001b[0;34m(\u001b[0m\u001b[0mself\u001b[0m\u001b[0;34m.\u001b[0m\u001b[0mengine\u001b[0m\u001b[0;34m)\u001b[0m\u001b[0;34m\u001b[0m\u001b[0;34m\u001b[0m\u001b[0m\n\u001b[0m\u001b[1;32m    949\u001b[0m \u001b[0;34m\u001b[0m\u001b[0m\n\u001b[1;32m    950\u001b[0m     \u001b[0;32mdef\u001b[0m \u001b[0mclose\u001b[0m\u001b[0;34m(\u001b[0m\u001b[0mself\u001b[0m\u001b[0;34m)\u001b[0m\u001b[0;34m:\u001b[0m\u001b[0;34m\u001b[0m\u001b[0;34m\u001b[0m\u001b[0m\n",
            "\u001b[0;32m/usr/local/lib/python3.7/dist-packages/pandas/io/parsers.py\u001b[0m in \u001b[0;36m_make_engine\u001b[0;34m(self, engine)\u001b[0m\n\u001b[1;32m   1178\u001b[0m     \u001b[0;32mdef\u001b[0m \u001b[0m_make_engine\u001b[0m\u001b[0;34m(\u001b[0m\u001b[0mself\u001b[0m\u001b[0;34m,\u001b[0m \u001b[0mengine\u001b[0m\u001b[0;34m=\u001b[0m\u001b[0;34m\"c\"\u001b[0m\u001b[0;34m)\u001b[0m\u001b[0;34m:\u001b[0m\u001b[0;34m\u001b[0m\u001b[0;34m\u001b[0m\u001b[0m\n\u001b[1;32m   1179\u001b[0m         \u001b[0;32mif\u001b[0m \u001b[0mengine\u001b[0m \u001b[0;34m==\u001b[0m \u001b[0;34m\"c\"\u001b[0m\u001b[0;34m:\u001b[0m\u001b[0;34m\u001b[0m\u001b[0;34m\u001b[0m\u001b[0m\n\u001b[0;32m-> 1180\u001b[0;31m             \u001b[0mself\u001b[0m\u001b[0;34m.\u001b[0m\u001b[0m_engine\u001b[0m \u001b[0;34m=\u001b[0m \u001b[0mCParserWrapper\u001b[0m\u001b[0;34m(\u001b[0m\u001b[0mself\u001b[0m\u001b[0;34m.\u001b[0m\u001b[0mf\u001b[0m\u001b[0;34m,\u001b[0m \u001b[0;34m**\u001b[0m\u001b[0mself\u001b[0m\u001b[0;34m.\u001b[0m\u001b[0moptions\u001b[0m\u001b[0;34m)\u001b[0m\u001b[0;34m\u001b[0m\u001b[0;34m\u001b[0m\u001b[0m\n\u001b[0m\u001b[1;32m   1181\u001b[0m         \u001b[0;32melse\u001b[0m\u001b[0;34m:\u001b[0m\u001b[0;34m\u001b[0m\u001b[0;34m\u001b[0m\u001b[0m\n\u001b[1;32m   1182\u001b[0m             \u001b[0;32mif\u001b[0m \u001b[0mengine\u001b[0m \u001b[0;34m==\u001b[0m \u001b[0;34m\"python\"\u001b[0m\u001b[0;34m:\u001b[0m\u001b[0;34m\u001b[0m\u001b[0;34m\u001b[0m\u001b[0m\n",
            "\u001b[0;32m/usr/local/lib/python3.7/dist-packages/pandas/io/parsers.py\u001b[0m in \u001b[0;36m__init__\u001b[0;34m(self, src, **kwds)\u001b[0m\n\u001b[1;32m   2008\u001b[0m         \u001b[0mkwds\u001b[0m\u001b[0;34m[\u001b[0m\u001b[0;34m\"usecols\"\u001b[0m\u001b[0;34m]\u001b[0m \u001b[0;34m=\u001b[0m \u001b[0mself\u001b[0m\u001b[0;34m.\u001b[0m\u001b[0musecols\u001b[0m\u001b[0;34m\u001b[0m\u001b[0;34m\u001b[0m\u001b[0m\n\u001b[1;32m   2009\u001b[0m \u001b[0;34m\u001b[0m\u001b[0m\n\u001b[0;32m-> 2010\u001b[0;31m         \u001b[0mself\u001b[0m\u001b[0;34m.\u001b[0m\u001b[0m_reader\u001b[0m \u001b[0;34m=\u001b[0m \u001b[0mparsers\u001b[0m\u001b[0;34m.\u001b[0m\u001b[0mTextReader\u001b[0m\u001b[0;34m(\u001b[0m\u001b[0msrc\u001b[0m\u001b[0;34m,\u001b[0m \u001b[0;34m**\u001b[0m\u001b[0mkwds\u001b[0m\u001b[0;34m)\u001b[0m\u001b[0;34m\u001b[0m\u001b[0;34m\u001b[0m\u001b[0m\n\u001b[0m\u001b[1;32m   2011\u001b[0m         \u001b[0mself\u001b[0m\u001b[0;34m.\u001b[0m\u001b[0munnamed_cols\u001b[0m \u001b[0;34m=\u001b[0m \u001b[0mself\u001b[0m\u001b[0;34m.\u001b[0m\u001b[0m_reader\u001b[0m\u001b[0;34m.\u001b[0m\u001b[0munnamed_cols\u001b[0m\u001b[0;34m\u001b[0m\u001b[0;34m\u001b[0m\u001b[0m\n\u001b[1;32m   2012\u001b[0m \u001b[0;34m\u001b[0m\u001b[0m\n",
            "\u001b[0;32mpandas/_libs/parsers.pyx\u001b[0m in \u001b[0;36mpandas._libs.parsers.TextReader.__cinit__\u001b[0;34m()\u001b[0m\n",
            "\u001b[0;32mpandas/_libs/parsers.pyx\u001b[0m in \u001b[0;36mpandas._libs.parsers.TextReader._setup_parser_source\u001b[0;34m()\u001b[0m\n",
            "\u001b[0;31mFileNotFoundError\u001b[0m: [Errno 2] No such file or directory: 'WA_Fn-UseC_-HR-Employee-Attrition.csv'"
          ]
        }
      ]
    },
    {
      "cell_type": "code",
      "metadata": {
        "id": "VHAY5HkTbuwW"
      },
      "source": [
        "print(attritionDF[['DailyRate']].groupby(attritionDF['JobSatisfaction']).agg(['count']))\n"
      ],
      "execution_count": null,
      "outputs": []
    },
    {
      "cell_type": "code",
      "metadata": {
        "id": "44diTBQlYCLB"
      },
      "source": [
        "# Our first step is to split up our dataset. \n",
        "SatOne = attritionDF[(attritionDF['JobSatisfaction'] == 1)]\n",
        "SatTwo = attritionDF[(attritionDF['JobSatisfaction'] == 2)]\n",
        "SatThree = attritionDF[(attritionDF['JobSatisfaction'] == 3)]\n",
        "SatFour = attritionDF[(attritionDF['JobSatisfaction'] == 4)]\n",
        "\n",
        "# List the contents that are in each data set\n",
        "print(SatOne.info())\n",
        "print(SatTwo.info())\n",
        "print(SatThree.info())\n",
        "print(SatFour.info())\n",
        "\n"
      ],
      "execution_count": null,
      "outputs": []
    },
    {
      "cell_type": "code",
      "metadata": {
        "id": "EtF8tAYZtYC9"
      },
      "source": [
        "# Creating visuals for our dataset using the mathplot library tools\n",
        "import math\n",
        "import pandas as pd\n",
        "import numpy as np\n",
        "from scipy import stats\n",
        "import matplotlib.pyplot as plt\n",
        "\n",
        "\n"
      ],
      "execution_count": null,
      "outputs": []
    },
    {
      "cell_type": "code",
      "metadata": {
        "id": "5rwZgMyaeLzN"
      },
      "source": [
        "\"\"\"\n",
        "I used histograms to see the normal distribution charts more easily\n",
        "and created separate graphs for each job satisfaction level.  This will\n",
        "allow us to see the ranges of Daily Rate and how many employees fall within\n",
        "the range  \n",
        "\"\"\"\n",
        "\n",
        "fig, axe = plt.subplots(dpi=100)\n",
        "\n",
        "plt.hist(SatOne['DailyRate'], alpha = .5, color = \"red\", bins=10, rwidth=0.9)\n",
        "\n",
        "plt.title('Frequency of Daily Rates with Job Satisfaction of 1')\n",
        "plt.xlabel('Daily Rates')\n",
        "plt.ylabel('Number of Employees')\n",
        "plt.grid(axis='y', alpha=0.5)\n",
        "plt.grid(axis='x', alpha=0.5)\n",
        "\n",
        "plt.show()\n",
        "\"\"\"\n",
        "This particular plot is normally distributed.  Most employees with Job Rating of 1 seem to make \n",
        "around 600 as a daily rate.  Less people make high amount.\n",
        "\n",
        "This is normally distributed, so from this we can interpret that people that make less  \n",
        "are less satisfied, which leads to more turnover. \n",
        "\"\"\"\n",
        "\n",
        "# Describes the results of the dataset, include mean, variance, skewness, kurtosis.\n",
        "print(stats.describe(SatOne['DailyRate']))\n",
        "\n",
        "\"\"\"\n",
        "The high kurotsis indicates a more positive skew on the graph.\n",
        "The 0.04 skew value indicates a fairly symmetrical skew, which \n",
        "makes sense because it is a normally distributed graph.\n",
        "\"\"\""
      ],
      "execution_count": null,
      "outputs": []
    },
    {
      "cell_type": "code",
      "metadata": {
        "id": "xeld3DW6YvMd"
      },
      "source": [
        "fig, axe = plt.subplots(dpi=100)\n",
        "\"\"\"\n",
        "The results for a Job Satisfaction rating of 2 are fairly similar to 1.  People \n",
        "that make less Daily Rate tend to have a lower rating.  This data much like the previous\n",
        "is positvely skewed with a high kurotossi rating.  the 0.08 skewness tells us that the skew is symmetrical\n",
        "The results are a normal distribution. \n",
        "\"\"\"\n",
        "\n",
        "plt.hist(SatTwo['DailyRate'], color=\"orange\", bins=10, rwidth=0.9)\n",
        "plt.title('Frequency of Daily Rates with Job Satisfaction of 2')\n",
        "plt.xlabel('Daily Rates')\n",
        "plt.ylabel('Number of Employees')\n",
        "plt.grid(axis='y', alpha=0.5)\n",
        "plt.grid(axis='x', alpha=0.5)\n",
        "plt.show()\n",
        "print(stats.describe(SatTwo['DailyRate']))\n",
        "\n"
      ],
      "execution_count": null,
      "outputs": []
    },
    {
      "cell_type": "code",
      "metadata": {
        "id": "n2smwNS1Yvkc"
      },
      "source": [
        "fig, axe = plt.subplots(dpi=100)\n",
        "\"\"\"\n",
        "The data for this finally presents more variation in results.  It seems that\n",
        "more people with a Job Satisfaction Rating of 3 tend to have higher salaries,\n",
        "with the most being 1400.  \n",
        "\n",
        "At around 600, where about 50 employees make, they \n",
        "have high satisfaction.  Lesss people make the middle rate, and the more people\n",
        "that make the high rates have a higher satisfaction \n",
        "\"\"\"\n",
        "plt.hist(SatThree['DailyRate'], alpha = .5, color=\"gold\", bins=10, rwidth=0.9)\n",
        "plt.title('Frequency of Daily Rates with Job Satisfaction of 3')\n",
        "plt.xlabel('Daily Rates')\n",
        "plt.ylabel('Number of Employees')\n",
        "plt.grid(axis='y', alpha=0.5)\n",
        "plt.grid(axis='x', alpha=0.5)\n",
        "plt.show()\n",
        "\n",
        "\"\"\"\n",
        "This time, the mean increased by about 100, the skewness changed to -0.05, which \n",
        "indicates a symmetical graph, with a positive skew with a high kurotsis rating.\n",
        "\n",
        "Just examaing from this, more people that make more daily have a higher rating.  \n",
        "\"\"\"\n",
        "\n",
        "print(stats.describe(SatThree['DailyRate']))\n"
      ],
      "execution_count": null,
      "outputs": []
    },
    {
      "cell_type": "code",
      "metadata": {
        "id": "fKXc2x1YYvv8"
      },
      "source": [
        "\"\"\" \n",
        "Results for Job Satisfaction Rating of 4 are quite similar to 3, but less people \n",
        "make the 1400, but overall, graph is normally distributed with a skewness of -0.03,\n",
        "which means it is positvely skewed with high kurtosis\n",
        "\"\"\"\n",
        "fig, axe = plt.subplots(dpi=100)\n",
        "plt.hist(SatFour['DailyRate'], alpha = .5, color=\"green\", bins=10, rwidth=0.9)\n",
        "plt.title('Frequency of Daily Rates with Job Satisfaction of 4')\n",
        "plt.xlabel('Daily Rates')\n",
        "plt.ylabel('Number of Employees')\n",
        "plt.grid(axis='y', alpha=0.5)\n",
        "plt.grid(axis='x', alpha=0.5)\n",
        "plt.show()\n",
        "\n",
        "# Similar results to previous set.\n",
        "print(stats.describe(SatFour['DailyRate']))\n"
      ],
      "execution_count": null,
      "outputs": []
    },
    {
      "cell_type": "code",
      "metadata": {
        "id": "2fCRFr8H9LV6"
      },
      "source": [
        "# Lets now show all four graphs at once, to make it easier to see visually.\n",
        "\n",
        "fig, axe = plt.subplots(nrows=2, ncols=2, dpi=700)\n",
        "plt.tight_layout()\n",
        "axe[0][0].hist(SatOne['DailyRate'], color = \"red\", bins=10, rwidth=0.9, alpha = .5)\n",
        "axe[0][0].set_title(\"Job Satisfaction 1\")\n",
        "axe[0][1].hist(SatTwo['DailyRate'], color=\"orange\", bins=10, rwidth=0.9, alpha = .5)\n",
        "axe[0][1].set_title(\"Job Satisfaction 2\")\n",
        "axe[1][0].hist(SatThree['DailyRate'], color=\"yellow\", bins=10, rwidth=0.9, alpha = .5)\n",
        "axe[1][0].set_title(\"Job Satisfaction 3\")\n",
        "axe[1][1].hist(SatFour['DailyRate'], color =\"green\", bins=10, rwidth=0.9, alpha = .5)\n",
        "axe[1][1].set_title(\"Job Satisfaction 4\")\n",
        "\n",
        "plt.show()\n",
        "\n"
      ],
      "execution_count": null,
      "outputs": []
    },
    {
      "cell_type": "code",
      "metadata": {
        "id": "zaMhcHmVcIxe"
      },
      "source": [
        "# Box Plot\n",
        "\"\"\"\n",
        "As we can see from the box plot, the median is fairly consistent throughout the job ratings.\n",
        "The median lying between 700-850 is the range of Daily Rates majority of employees make.\n",
        "\n",
        "Noticably, the higher Job Satisfaction have a higher median.  \n",
        "\n",
        "Relates back to the normally distributed graphs, more people have a higher job satisfaction\n",
        "if they make more.  \n",
        "\n",
        "The Y Axis indicates daily rate while the X axis is the Job Satisfaction Level\n",
        "\"\"\"\n",
        "attritionDF.boxplot('DailyRate', by='JobSatisfaction', figsize=(10, 7), )\n",
        "\n"
      ],
      "execution_count": null,
      "outputs": []
    },
    {
      "cell_type": "code",
      "metadata": {
        "id": "r6tnk4e8gm01"
      },
      "source": [
        "\"\"\"\n",
        "Because we are comparing multiple groups, it's better to use a One Way Anova Test\n",
        "This allows us to see if there's any major variation between the groups, in this case,\n",
        "the level of Job Satisfaction.\n",
        "\n",
        "We can compare the p-value against our desired alpha (usually .05) to determine statistical significance.  \n",
        "It appears that the four levels of job satisfacito are likely to not vary too much in the ranges of Daily Rates.\n",
        "Our P value is > 0.05, with it being 0.15, therefore no major difference.  \n",
        "\n",
        "\"\"\"\n",
        "stats.f_oneway(SatFour['DailyRate'], SatThree['DailyRate'], SatTwo['DailyRate'], SatOne['DailyRate'])"
      ],
      "execution_count": null,
      "outputs": []
    },
    {
      "cell_type": "code",
      "metadata": {
        "id": "hJViV0x4g-AN"
      },
      "source": [
        "# one way anova\n",
        "# Here is all of the T-Tests done to compared the individual groups\n",
        "\n",
        "\"\"\"Out of all of them, only a Job Satisfaction comparison between 2 and 3 seem to indicate any high significant.  \n",
        "# due to having a P value < 0.05.  The rest have quite high and do not indicate much significance.\n",
        "\"\"\"\n",
        "print(stats.ttest_ind((SatOne['DailyRate']), SatTwo['DailyRate']))\n",
        "print(stats.ttest_ind((SatOne['DailyRate']), SatThree['DailyRate']))\n",
        "print(stats.ttest_ind((SatOne['DailyRate']), SatFour['DailyRate']))\n",
        "print(stats.ttest_ind((SatTwo['DailyRate']), SatThree['DailyRate']))\n",
        "print(stats.ttest_ind((SatTwo['DailyRate']), SatFour['DailyRate']))\n",
        "print(stats.ttest_ind((SatThree['DailyRate']), SatFour['DailyRate']))"
      ],
      "execution_count": null,
      "outputs": []
    },
    {
      "cell_type": "code",
      "metadata": {
        "id": "v1gWfPo7oNY2"
      },
      "source": [
        "# We use Kruskal's Test here to compare multiple groups.  \n",
        "\n",
        "\"\"\"\n",
        "The Kruskal-Wallis test is used for two or more groups.  While this test is a bit complicated, the underlying logic \n",
        "is the same as the one-way ANOVA we covered earlier.  \n",
        "\n",
        "First, we compute an estimate of the size of the differences between the groups, then we put that difference into \n",
        "context by dividing it by the amount of variance in the groups\n",
        "\"\"\"\n",
        "stats.kruskal(SatFour['DailyRate'], SatThree['DailyRate'], SatTwo['DailyRate'], SatOne['DailyRate'])\n",
        "\n",
        "# The results indicate a high statistics and a p-value of 0.14, therefore it indicates there is an overall no significant change between the job satisfaction levels.  "
      ],
      "execution_count": null,
      "outputs": []
    }
  ]
}